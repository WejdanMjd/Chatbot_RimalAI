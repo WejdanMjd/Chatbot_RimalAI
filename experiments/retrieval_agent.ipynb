{
 "cells": [
  {
   "cell_type": "markdown",
   "metadata": {},
   "source": [
    "# vector DB using Chroma + LangChain"
   ]
  },
  {
   "cell_type": "markdown",
   "metadata": {},
   "source": [
    "## Install the Required Packages"
   ]
  },
  {
   "cell_type": "code",
   "execution_count": 6,
   "metadata": {},
   "outputs": [
    {
     "name": "stdout",
     "output_type": "stream",
     "text": [
      "Requirement already satisfied: langchain in /Users/raneem/.pyenv/versions/3.13.0/lib/python3.13/site-packages (0.3.24)\n",
      "Requirement already satisfied: openai in /Users/raneem/.pyenv/versions/3.13.0/lib/python3.13/site-packages (0.28.0)\n",
      "Requirement already satisfied: langchain-core<1.0.0,>=0.3.55 in /Users/raneem/.pyenv/versions/3.13.0/lib/python3.13/site-packages (from langchain) (0.3.56)\n",
      "Requirement already satisfied: langchain-text-splitters<1.0.0,>=0.3.8 in /Users/raneem/.pyenv/versions/3.13.0/lib/python3.13/site-packages (from langchain) (0.3.8)\n",
      "Requirement already satisfied: langsmith<0.4,>=0.1.17 in /Users/raneem/.pyenv/versions/3.13.0/lib/python3.13/site-packages (from langchain) (0.3.32)\n",
      "Requirement already satisfied: pydantic<3.0.0,>=2.7.4 in /Users/raneem/.pyenv/versions/3.13.0/lib/python3.13/site-packages (from langchain) (2.11.3)\n",
      "Requirement already satisfied: SQLAlchemy<3,>=1.4 in /Users/raneem/.pyenv/versions/3.13.0/lib/python3.13/site-packages (from langchain) (2.0.40)\n",
      "Requirement already satisfied: requests<3,>=2 in /Users/raneem/.pyenv/versions/3.13.0/lib/python3.13/site-packages (from langchain) (2.32.3)\n",
      "Requirement already satisfied: PyYAML>=5.3 in /Users/raneem/.pyenv/versions/3.13.0/lib/python3.13/site-packages (from langchain) (6.0.2)\n",
      "Requirement already satisfied: tenacity!=8.4.0,<10.0.0,>=8.1.0 in /Users/raneem/.pyenv/versions/3.13.0/lib/python3.13/site-packages (from langchain-core<1.0.0,>=0.3.55->langchain) (9.1.2)\n",
      "Requirement already satisfied: jsonpatch<2.0,>=1.33 in /Users/raneem/.pyenv/versions/3.13.0/lib/python3.13/site-packages (from langchain-core<1.0.0,>=0.3.55->langchain) (1.33)\n",
      "Requirement already satisfied: packaging<25,>=23.2 in /Users/raneem/.pyenv/versions/3.13.0/lib/python3.13/site-packages (from langchain-core<1.0.0,>=0.3.55->langchain) (24.2)\n",
      "Requirement already satisfied: typing-extensions>=4.7 in /Users/raneem/.pyenv/versions/3.13.0/lib/python3.13/site-packages (from langchain-core<1.0.0,>=0.3.55->langchain) (4.13.1)\n",
      "Requirement already satisfied: jsonpointer>=1.9 in /Users/raneem/.pyenv/versions/3.13.0/lib/python3.13/site-packages (from jsonpatch<2.0,>=1.33->langchain-core<1.0.0,>=0.3.55->langchain) (3.0.0)\n",
      "Requirement already satisfied: httpx<1,>=0.23.0 in /Users/raneem/.pyenv/versions/3.13.0/lib/python3.13/site-packages (from langsmith<0.4,>=0.1.17->langchain) (0.28.1)\n",
      "Requirement already satisfied: orjson<4.0.0,>=3.9.14 in /Users/raneem/.pyenv/versions/3.13.0/lib/python3.13/site-packages (from langsmith<0.4,>=0.1.17->langchain) (3.10.16)\n",
      "Requirement already satisfied: requests-toolbelt<2.0.0,>=1.0.0 in /Users/raneem/.pyenv/versions/3.13.0/lib/python3.13/site-packages (from langsmith<0.4,>=0.1.17->langchain) (1.0.0)\n",
      "Requirement already satisfied: zstandard<0.24.0,>=0.23.0 in /Users/raneem/.pyenv/versions/3.13.0/lib/python3.13/site-packages (from langsmith<0.4,>=0.1.17->langchain) (0.23.0)\n",
      "Requirement already satisfied: anyio in /Users/raneem/.pyenv/versions/3.13.0/lib/python3.13/site-packages (from httpx<1,>=0.23.0->langsmith<0.4,>=0.1.17->langchain) (4.9.0)\n",
      "Requirement already satisfied: certifi in /Users/raneem/.pyenv/versions/3.13.0/lib/python3.13/site-packages (from httpx<1,>=0.23.0->langsmith<0.4,>=0.1.17->langchain) (2025.1.31)\n",
      "Requirement already satisfied: httpcore==1.* in /Users/raneem/.pyenv/versions/3.13.0/lib/python3.13/site-packages (from httpx<1,>=0.23.0->langsmith<0.4,>=0.1.17->langchain) (1.0.8)\n",
      "Requirement already satisfied: idna in /Users/raneem/.pyenv/versions/3.13.0/lib/python3.13/site-packages (from httpx<1,>=0.23.0->langsmith<0.4,>=0.1.17->langchain) (3.10)\n",
      "Requirement already satisfied: h11<0.15,>=0.13 in /Users/raneem/.pyenv/versions/3.13.0/lib/python3.13/site-packages (from httpcore==1.*->httpx<1,>=0.23.0->langsmith<0.4,>=0.1.17->langchain) (0.14.0)\n",
      "Requirement already satisfied: annotated-types>=0.6.0 in /Users/raneem/.pyenv/versions/3.13.0/lib/python3.13/site-packages (from pydantic<3.0.0,>=2.7.4->langchain) (0.7.0)\n",
      "Requirement already satisfied: pydantic-core==2.33.1 in /Users/raneem/.pyenv/versions/3.13.0/lib/python3.13/site-packages (from pydantic<3.0.0,>=2.7.4->langchain) (2.33.1)\n",
      "Requirement already satisfied: typing-inspection>=0.4.0 in /Users/raneem/.pyenv/versions/3.13.0/lib/python3.13/site-packages (from pydantic<3.0.0,>=2.7.4->langchain) (0.4.0)\n",
      "Requirement already satisfied: charset-normalizer<4,>=2 in /Users/raneem/.pyenv/versions/3.13.0/lib/python3.13/site-packages (from requests<3,>=2->langchain) (3.4.1)\n",
      "Requirement already satisfied: urllib3<3,>=1.21.1 in /Users/raneem/.pyenv/versions/3.13.0/lib/python3.13/site-packages (from requests<3,>=2->langchain) (2.3.0)\n",
      "Requirement already satisfied: tqdm in /Users/raneem/.pyenv/versions/3.13.0/lib/python3.13/site-packages (from openai) (4.67.1)\n",
      "Requirement already satisfied: aiohttp in /Users/raneem/.pyenv/versions/3.13.0/lib/python3.13/site-packages (from openai) (3.10.11)\n",
      "Requirement already satisfied: aiohappyeyeballs>=2.3.0 in /Users/raneem/.pyenv/versions/3.13.0/lib/python3.13/site-packages (from aiohttp->openai) (2.6.1)\n",
      "Requirement already satisfied: aiosignal>=1.1.2 in /Users/raneem/.pyenv/versions/3.13.0/lib/python3.13/site-packages (from aiohttp->openai) (1.3.2)\n",
      "Requirement already satisfied: attrs>=17.3.0 in /Users/raneem/.pyenv/versions/3.13.0/lib/python3.13/site-packages (from aiohttp->openai) (25.3.0)\n",
      "Requirement already satisfied: frozenlist>=1.1.1 in /Users/raneem/.pyenv/versions/3.13.0/lib/python3.13/site-packages (from aiohttp->openai) (1.5.0)\n",
      "Requirement already satisfied: multidict<7.0,>=4.5 in /Users/raneem/.pyenv/versions/3.13.0/lib/python3.13/site-packages (from aiohttp->openai) (6.4.0)\n",
      "Requirement already satisfied: yarl<2.0,>=1.12.0 in /Users/raneem/.pyenv/versions/3.13.0/lib/python3.13/site-packages (from aiohttp->openai) (1.19.0)\n",
      "Requirement already satisfied: propcache>=0.2.1 in /Users/raneem/.pyenv/versions/3.13.0/lib/python3.13/site-packages (from yarl<2.0,>=1.12.0->aiohttp->openai) (0.3.1)\n",
      "Requirement already satisfied: sniffio>=1.1 in /Users/raneem/.pyenv/versions/3.13.0/lib/python3.13/site-packages (from anyio->httpx<1,>=0.23.0->langsmith<0.4,>=0.1.17->langchain) (1.3.1)\n",
      "Note: you may need to restart the kernel to use updated packages.\n",
      "Requirement already satisfied: langchain in /Users/raneem/.pyenv/versions/3.13.0/lib/python3.13/site-packages (0.3.24)\n",
      "Requirement already satisfied: langchain-core<1.0.0,>=0.3.55 in /Users/raneem/.pyenv/versions/3.13.0/lib/python3.13/site-packages (from langchain) (0.3.56)\n",
      "Requirement already satisfied: langchain-text-splitters<1.0.0,>=0.3.8 in /Users/raneem/.pyenv/versions/3.13.0/lib/python3.13/site-packages (from langchain) (0.3.8)\n",
      "Requirement already satisfied: langsmith<0.4,>=0.1.17 in /Users/raneem/.pyenv/versions/3.13.0/lib/python3.13/site-packages (from langchain) (0.3.32)\n",
      "Requirement already satisfied: pydantic<3.0.0,>=2.7.4 in /Users/raneem/.pyenv/versions/3.13.0/lib/python3.13/site-packages (from langchain) (2.11.3)\n",
      "Requirement already satisfied: SQLAlchemy<3,>=1.4 in /Users/raneem/.pyenv/versions/3.13.0/lib/python3.13/site-packages (from langchain) (2.0.40)\n",
      "Requirement already satisfied: requests<3,>=2 in /Users/raneem/.pyenv/versions/3.13.0/lib/python3.13/site-packages (from langchain) (2.32.3)\n",
      "Requirement already satisfied: PyYAML>=5.3 in /Users/raneem/.pyenv/versions/3.13.0/lib/python3.13/site-packages (from langchain) (6.0.2)\n",
      "Requirement already satisfied: tenacity!=8.4.0,<10.0.0,>=8.1.0 in /Users/raneem/.pyenv/versions/3.13.0/lib/python3.13/site-packages (from langchain-core<1.0.0,>=0.3.55->langchain) (9.1.2)\n",
      "Requirement already satisfied: jsonpatch<2.0,>=1.33 in /Users/raneem/.pyenv/versions/3.13.0/lib/python3.13/site-packages (from langchain-core<1.0.0,>=0.3.55->langchain) (1.33)\n",
      "Requirement already satisfied: packaging<25,>=23.2 in /Users/raneem/.pyenv/versions/3.13.0/lib/python3.13/site-packages (from langchain-core<1.0.0,>=0.3.55->langchain) (24.2)\n",
      "Requirement already satisfied: typing-extensions>=4.7 in /Users/raneem/.pyenv/versions/3.13.0/lib/python3.13/site-packages (from langchain-core<1.0.0,>=0.3.55->langchain) (4.13.1)\n",
      "Requirement already satisfied: jsonpointer>=1.9 in /Users/raneem/.pyenv/versions/3.13.0/lib/python3.13/site-packages (from jsonpatch<2.0,>=1.33->langchain-core<1.0.0,>=0.3.55->langchain) (3.0.0)\n",
      "Requirement already satisfied: httpx<1,>=0.23.0 in /Users/raneem/.pyenv/versions/3.13.0/lib/python3.13/site-packages (from langsmith<0.4,>=0.1.17->langchain) (0.28.1)\n",
      "Requirement already satisfied: orjson<4.0.0,>=3.9.14 in /Users/raneem/.pyenv/versions/3.13.0/lib/python3.13/site-packages (from langsmith<0.4,>=0.1.17->langchain) (3.10.16)\n",
      "Requirement already satisfied: requests-toolbelt<2.0.0,>=1.0.0 in /Users/raneem/.pyenv/versions/3.13.0/lib/python3.13/site-packages (from langsmith<0.4,>=0.1.17->langchain) (1.0.0)\n",
      "Requirement already satisfied: zstandard<0.24.0,>=0.23.0 in /Users/raneem/.pyenv/versions/3.13.0/lib/python3.13/site-packages (from langsmith<0.4,>=0.1.17->langchain) (0.23.0)\n",
      "Requirement already satisfied: anyio in /Users/raneem/.pyenv/versions/3.13.0/lib/python3.13/site-packages (from httpx<1,>=0.23.0->langsmith<0.4,>=0.1.17->langchain) (4.9.0)\n",
      "Requirement already satisfied: certifi in /Users/raneem/.pyenv/versions/3.13.0/lib/python3.13/site-packages (from httpx<1,>=0.23.0->langsmith<0.4,>=0.1.17->langchain) (2025.1.31)\n",
      "Requirement already satisfied: httpcore==1.* in /Users/raneem/.pyenv/versions/3.13.0/lib/python3.13/site-packages (from httpx<1,>=0.23.0->langsmith<0.4,>=0.1.17->langchain) (1.0.8)\n",
      "Requirement already satisfied: idna in /Users/raneem/.pyenv/versions/3.13.0/lib/python3.13/site-packages (from httpx<1,>=0.23.0->langsmith<0.4,>=0.1.17->langchain) (3.10)\n",
      "Requirement already satisfied: h11<0.15,>=0.13 in /Users/raneem/.pyenv/versions/3.13.0/lib/python3.13/site-packages (from httpcore==1.*->httpx<1,>=0.23.0->langsmith<0.4,>=0.1.17->langchain) (0.14.0)\n",
      "Requirement already satisfied: annotated-types>=0.6.0 in /Users/raneem/.pyenv/versions/3.13.0/lib/python3.13/site-packages (from pydantic<3.0.0,>=2.7.4->langchain) (0.7.0)\n",
      "Requirement already satisfied: pydantic-core==2.33.1 in /Users/raneem/.pyenv/versions/3.13.0/lib/python3.13/site-packages (from pydantic<3.0.0,>=2.7.4->langchain) (2.33.1)\n",
      "Requirement already satisfied: typing-inspection>=0.4.0 in /Users/raneem/.pyenv/versions/3.13.0/lib/python3.13/site-packages (from pydantic<3.0.0,>=2.7.4->langchain) (0.4.0)\n",
      "Requirement already satisfied: charset-normalizer<4,>=2 in /Users/raneem/.pyenv/versions/3.13.0/lib/python3.13/site-packages (from requests<3,>=2->langchain) (3.4.1)\n",
      "Requirement already satisfied: urllib3<3,>=1.21.1 in /Users/raneem/.pyenv/versions/3.13.0/lib/python3.13/site-packages (from requests<3,>=2->langchain) (2.3.0)\n",
      "Requirement already satisfied: sniffio>=1.1 in /Users/raneem/.pyenv/versions/3.13.0/lib/python3.13/site-packages (from anyio->httpx<1,>=0.23.0->langsmith<0.4,>=0.1.17->langchain) (1.3.1)\n",
      "Note: you may need to restart the kernel to use updated packages.\n",
      "Requirement already satisfied: langchain-community in /Users/raneem/.pyenv/versions/3.13.0/lib/python3.13/site-packages (0.3.23)\n",
      "Requirement already satisfied: langchain-core<1.0.0,>=0.3.56 in /Users/raneem/.pyenv/versions/3.13.0/lib/python3.13/site-packages (from langchain-community) (0.3.56)\n",
      "Requirement already satisfied: langchain<1.0.0,>=0.3.24 in /Users/raneem/.pyenv/versions/3.13.0/lib/python3.13/site-packages (from langchain-community) (0.3.24)\n",
      "Requirement already satisfied: SQLAlchemy<3,>=1.4 in /Users/raneem/.pyenv/versions/3.13.0/lib/python3.13/site-packages (from langchain-community) (2.0.40)\n",
      "Requirement already satisfied: requests<3,>=2 in /Users/raneem/.pyenv/versions/3.13.0/lib/python3.13/site-packages (from langchain-community) (2.32.3)\n",
      "Requirement already satisfied: PyYAML>=5.3 in /Users/raneem/.pyenv/versions/3.13.0/lib/python3.13/site-packages (from langchain-community) (6.0.2)\n",
      "Requirement already satisfied: aiohttp<4.0.0,>=3.8.3 in /Users/raneem/.pyenv/versions/3.13.0/lib/python3.13/site-packages (from langchain-community) (3.10.11)\n",
      "Requirement already satisfied: tenacity!=8.4.0,<10,>=8.1.0 in /Users/raneem/.pyenv/versions/3.13.0/lib/python3.13/site-packages (from langchain-community) (9.1.2)\n",
      "Requirement already satisfied: dataclasses-json<0.7,>=0.5.7 in /Users/raneem/.pyenv/versions/3.13.0/lib/python3.13/site-packages (from langchain-community) (0.6.7)\n",
      "Requirement already satisfied: pydantic-settings<3.0.0,>=2.4.0 in /Users/raneem/.pyenv/versions/3.13.0/lib/python3.13/site-packages (from langchain-community) (2.9.1)\n",
      "Requirement already satisfied: langsmith<0.4,>=0.1.125 in /Users/raneem/.pyenv/versions/3.13.0/lib/python3.13/site-packages (from langchain-community) (0.3.32)\n",
      "Requirement already satisfied: httpx-sse<1.0.0,>=0.4.0 in /Users/raneem/.pyenv/versions/3.13.0/lib/python3.13/site-packages (from langchain-community) (0.4.0)\n",
      "Requirement already satisfied: numpy>=2.1.0 in /Users/raneem/.pyenv/versions/3.13.0/lib/python3.13/site-packages (from langchain-community) (2.2.4)\n",
      "Requirement already satisfied: aiohappyeyeballs>=2.3.0 in /Users/raneem/.pyenv/versions/3.13.0/lib/python3.13/site-packages (from aiohttp<4.0.0,>=3.8.3->langchain-community) (2.6.1)\n",
      "Requirement already satisfied: aiosignal>=1.1.2 in /Users/raneem/.pyenv/versions/3.13.0/lib/python3.13/site-packages (from aiohttp<4.0.0,>=3.8.3->langchain-community) (1.3.2)\n",
      "Requirement already satisfied: attrs>=17.3.0 in /Users/raneem/.pyenv/versions/3.13.0/lib/python3.13/site-packages (from aiohttp<4.0.0,>=3.8.3->langchain-community) (25.3.0)\n",
      "Requirement already satisfied: frozenlist>=1.1.1 in /Users/raneem/.pyenv/versions/3.13.0/lib/python3.13/site-packages (from aiohttp<4.0.0,>=3.8.3->langchain-community) (1.5.0)\n",
      "Requirement already satisfied: multidict<7.0,>=4.5 in /Users/raneem/.pyenv/versions/3.13.0/lib/python3.13/site-packages (from aiohttp<4.0.0,>=3.8.3->langchain-community) (6.4.0)\n",
      "Requirement already satisfied: yarl<2.0,>=1.12.0 in /Users/raneem/.pyenv/versions/3.13.0/lib/python3.13/site-packages (from aiohttp<4.0.0,>=3.8.3->langchain-community) (1.19.0)\n",
      "Requirement already satisfied: marshmallow<4.0.0,>=3.18.0 in /Users/raneem/.pyenv/versions/3.13.0/lib/python3.13/site-packages (from dataclasses-json<0.7,>=0.5.7->langchain-community) (3.26.1)\n",
      "Requirement already satisfied: typing-inspect<1,>=0.4.0 in /Users/raneem/.pyenv/versions/3.13.0/lib/python3.13/site-packages (from dataclasses-json<0.7,>=0.5.7->langchain-community) (0.9.0)\n",
      "Requirement already satisfied: langchain-text-splitters<1.0.0,>=0.3.8 in /Users/raneem/.pyenv/versions/3.13.0/lib/python3.13/site-packages (from langchain<1.0.0,>=0.3.24->langchain-community) (0.3.8)\n",
      "Requirement already satisfied: pydantic<3.0.0,>=2.7.4 in /Users/raneem/.pyenv/versions/3.13.0/lib/python3.13/site-packages (from langchain<1.0.0,>=0.3.24->langchain-community) (2.11.3)\n",
      "Requirement already satisfied: jsonpatch<2.0,>=1.33 in /Users/raneem/.pyenv/versions/3.13.0/lib/python3.13/site-packages (from langchain-core<1.0.0,>=0.3.56->langchain-community) (1.33)\n",
      "Requirement already satisfied: packaging<25,>=23.2 in /Users/raneem/.pyenv/versions/3.13.0/lib/python3.13/site-packages (from langchain-core<1.0.0,>=0.3.56->langchain-community) (24.2)\n",
      "Requirement already satisfied: typing-extensions>=4.7 in /Users/raneem/.pyenv/versions/3.13.0/lib/python3.13/site-packages (from langchain-core<1.0.0,>=0.3.56->langchain-community) (4.13.1)\n",
      "Requirement already satisfied: jsonpointer>=1.9 in /Users/raneem/.pyenv/versions/3.13.0/lib/python3.13/site-packages (from jsonpatch<2.0,>=1.33->langchain-core<1.0.0,>=0.3.56->langchain-community) (3.0.0)\n",
      "Requirement already satisfied: httpx<1,>=0.23.0 in /Users/raneem/.pyenv/versions/3.13.0/lib/python3.13/site-packages (from langsmith<0.4,>=0.1.125->langchain-community) (0.28.1)\n",
      "Requirement already satisfied: orjson<4.0.0,>=3.9.14 in /Users/raneem/.pyenv/versions/3.13.0/lib/python3.13/site-packages (from langsmith<0.4,>=0.1.125->langchain-community) (3.10.16)\n",
      "Requirement already satisfied: requests-toolbelt<2.0.0,>=1.0.0 in /Users/raneem/.pyenv/versions/3.13.0/lib/python3.13/site-packages (from langsmith<0.4,>=0.1.125->langchain-community) (1.0.0)\n",
      "Requirement already satisfied: zstandard<0.24.0,>=0.23.0 in /Users/raneem/.pyenv/versions/3.13.0/lib/python3.13/site-packages (from langsmith<0.4,>=0.1.125->langchain-community) (0.23.0)\n",
      "Requirement already satisfied: anyio in /Users/raneem/.pyenv/versions/3.13.0/lib/python3.13/site-packages (from httpx<1,>=0.23.0->langsmith<0.4,>=0.1.125->langchain-community) (4.9.0)\n",
      "Requirement already satisfied: certifi in /Users/raneem/.pyenv/versions/3.13.0/lib/python3.13/site-packages (from httpx<1,>=0.23.0->langsmith<0.4,>=0.1.125->langchain-community) (2025.1.31)\n",
      "Requirement already satisfied: httpcore==1.* in /Users/raneem/.pyenv/versions/3.13.0/lib/python3.13/site-packages (from httpx<1,>=0.23.0->langsmith<0.4,>=0.1.125->langchain-community) (1.0.8)\n",
      "Requirement already satisfied: idna in /Users/raneem/.pyenv/versions/3.13.0/lib/python3.13/site-packages (from httpx<1,>=0.23.0->langsmith<0.4,>=0.1.125->langchain-community) (3.10)\n",
      "Requirement already satisfied: h11<0.15,>=0.13 in /Users/raneem/.pyenv/versions/3.13.0/lib/python3.13/site-packages (from httpcore==1.*->httpx<1,>=0.23.0->langsmith<0.4,>=0.1.125->langchain-community) (0.14.0)\n",
      "Requirement already satisfied: annotated-types>=0.6.0 in /Users/raneem/.pyenv/versions/3.13.0/lib/python3.13/site-packages (from pydantic<3.0.0,>=2.7.4->langchain<1.0.0,>=0.3.24->langchain-community) (0.7.0)\n",
      "Requirement already satisfied: pydantic-core==2.33.1 in /Users/raneem/.pyenv/versions/3.13.0/lib/python3.13/site-packages (from pydantic<3.0.0,>=2.7.4->langchain<1.0.0,>=0.3.24->langchain-community) (2.33.1)\n",
      "Requirement already satisfied: typing-inspection>=0.4.0 in /Users/raneem/.pyenv/versions/3.13.0/lib/python3.13/site-packages (from pydantic<3.0.0,>=2.7.4->langchain<1.0.0,>=0.3.24->langchain-community) (0.4.0)\n",
      "Requirement already satisfied: python-dotenv>=0.21.0 in /Users/raneem/.pyenv/versions/3.13.0/lib/python3.13/site-packages (from pydantic-settings<3.0.0,>=2.4.0->langchain-community) (1.1.0)\n",
      "Requirement already satisfied: charset-normalizer<4,>=2 in /Users/raneem/.pyenv/versions/3.13.0/lib/python3.13/site-packages (from requests<3,>=2->langchain-community) (3.4.1)\n",
      "Requirement already satisfied: urllib3<3,>=1.21.1 in /Users/raneem/.pyenv/versions/3.13.0/lib/python3.13/site-packages (from requests<3,>=2->langchain-community) (2.3.0)\n",
      "Requirement already satisfied: mypy-extensions>=0.3.0 in /Users/raneem/.pyenv/versions/3.13.0/lib/python3.13/site-packages (from typing-inspect<1,>=0.4.0->dataclasses-json<0.7,>=0.5.7->langchain-community) (1.1.0)\n",
      "Requirement already satisfied: propcache>=0.2.1 in /Users/raneem/.pyenv/versions/3.13.0/lib/python3.13/site-packages (from yarl<2.0,>=1.12.0->aiohttp<4.0.0,>=3.8.3->langchain-community) (0.3.1)\n",
      "Requirement already satisfied: sniffio>=1.1 in /Users/raneem/.pyenv/versions/3.13.0/lib/python3.13/site-packages (from anyio->httpx<1,>=0.23.0->langsmith<0.4,>=0.1.125->langchain-community) (1.3.1)\n",
      "Note: you may need to restart the kernel to use updated packages.\n",
      "Requirement already satisfied: sentence-transformers in /Users/raneem/.pyenv/versions/3.13.0/lib/python3.13/site-packages (4.1.0)\n",
      "Requirement already satisfied: transformers<5.0.0,>=4.41.0 in /Users/raneem/.pyenv/versions/3.13.0/lib/python3.13/site-packages (from sentence-transformers) (4.51.2)\n",
      "Requirement already satisfied: tqdm in /Users/raneem/.pyenv/versions/3.13.0/lib/python3.13/site-packages (from sentence-transformers) (4.67.1)\n",
      "Requirement already satisfied: torch>=1.11.0 in /Users/raneem/.pyenv/versions/3.13.0/lib/python3.13/site-packages (from sentence-transformers) (2.6.0)\n",
      "Requirement already satisfied: scikit-learn in /Users/raneem/.pyenv/versions/3.13.0/lib/python3.13/site-packages (from sentence-transformers) (1.6.1)\n",
      "Requirement already satisfied: scipy in /Users/raneem/.pyenv/versions/3.13.0/lib/python3.13/site-packages (from sentence-transformers) (1.15.2)\n",
      "Requirement already satisfied: huggingface-hub>=0.20.0 in /Users/raneem/.pyenv/versions/3.13.0/lib/python3.13/site-packages (from sentence-transformers) (0.30.2)\n",
      "Requirement already satisfied: Pillow in /Users/raneem/.pyenv/versions/3.13.0/lib/python3.13/site-packages (from sentence-transformers) (11.1.0)\n",
      "Requirement already satisfied: typing_extensions>=4.5.0 in /Users/raneem/.pyenv/versions/3.13.0/lib/python3.13/site-packages (from sentence-transformers) (4.13.1)\n",
      "Requirement already satisfied: filelock in /Users/raneem/.pyenv/versions/3.13.0/lib/python3.13/site-packages (from transformers<5.0.0,>=4.41.0->sentence-transformers) (3.18.0)\n",
      "Requirement already satisfied: numpy>=1.17 in /Users/raneem/.pyenv/versions/3.13.0/lib/python3.13/site-packages (from transformers<5.0.0,>=4.41.0->sentence-transformers) (2.2.4)\n",
      "Requirement already satisfied: packaging>=20.0 in /Users/raneem/.pyenv/versions/3.13.0/lib/python3.13/site-packages (from transformers<5.0.0,>=4.41.0->sentence-transformers) (24.2)\n",
      "Requirement already satisfied: pyyaml>=5.1 in /Users/raneem/.pyenv/versions/3.13.0/lib/python3.13/site-packages (from transformers<5.0.0,>=4.41.0->sentence-transformers) (6.0.2)\n",
      "Requirement already satisfied: regex!=2019.12.17 in /Users/raneem/.pyenv/versions/3.13.0/lib/python3.13/site-packages (from transformers<5.0.0,>=4.41.0->sentence-transformers) (2024.11.6)\n",
      "Requirement already satisfied: requests in /Users/raneem/.pyenv/versions/3.13.0/lib/python3.13/site-packages (from transformers<5.0.0,>=4.41.0->sentence-transformers) (2.32.3)\n",
      "Requirement already satisfied: tokenizers<0.22,>=0.21 in /Users/raneem/.pyenv/versions/3.13.0/lib/python3.13/site-packages (from transformers<5.0.0,>=4.41.0->sentence-transformers) (0.21.1)\n",
      "Requirement already satisfied: safetensors>=0.4.3 in /Users/raneem/.pyenv/versions/3.13.0/lib/python3.13/site-packages (from transformers<5.0.0,>=4.41.0->sentence-transformers) (0.5.3)\n",
      "Requirement already satisfied: fsspec>=2023.5.0 in /Users/raneem/.pyenv/versions/3.13.0/lib/python3.13/site-packages (from huggingface-hub>=0.20.0->sentence-transformers) (2024.12.0)\n",
      "Requirement already satisfied: networkx in /Users/raneem/.pyenv/versions/3.13.0/lib/python3.13/site-packages (from torch>=1.11.0->sentence-transformers) (3.4.2)\n",
      "Requirement already satisfied: jinja2 in /Users/raneem/.pyenv/versions/3.13.0/lib/python3.13/site-packages (from torch>=1.11.0->sentence-transformers) (3.1.6)\n",
      "Requirement already satisfied: setuptools in /Users/raneem/.pyenv/versions/3.13.0/lib/python3.13/site-packages (from torch>=1.11.0->sentence-transformers) (78.1.0)\n",
      "Requirement already satisfied: sympy==1.13.1 in /Users/raneem/.pyenv/versions/3.13.0/lib/python3.13/site-packages (from torch>=1.11.0->sentence-transformers) (1.13.1)\n",
      "Requirement already satisfied: mpmath<1.4,>=1.1.0 in /Users/raneem/.pyenv/versions/3.13.0/lib/python3.13/site-packages (from sympy==1.13.1->torch>=1.11.0->sentence-transformers) (1.3.0)\n",
      "Requirement already satisfied: MarkupSafe>=2.0 in /Users/raneem/.pyenv/versions/3.13.0/lib/python3.13/site-packages (from jinja2->torch>=1.11.0->sentence-transformers) (3.0.2)\n",
      "Requirement already satisfied: charset-normalizer<4,>=2 in /Users/raneem/.pyenv/versions/3.13.0/lib/python3.13/site-packages (from requests->transformers<5.0.0,>=4.41.0->sentence-transformers) (3.4.1)\n",
      "Requirement already satisfied: idna<4,>=2.5 in /Users/raneem/.pyenv/versions/3.13.0/lib/python3.13/site-packages (from requests->transformers<5.0.0,>=4.41.0->sentence-transformers) (3.10)\n",
      "Requirement already satisfied: urllib3<3,>=1.21.1 in /Users/raneem/.pyenv/versions/3.13.0/lib/python3.13/site-packages (from requests->transformers<5.0.0,>=4.41.0->sentence-transformers) (2.3.0)\n",
      "Requirement already satisfied: certifi>=2017.4.17 in /Users/raneem/.pyenv/versions/3.13.0/lib/python3.13/site-packages (from requests->transformers<5.0.0,>=4.41.0->sentence-transformers) (2025.1.31)\n",
      "Requirement already satisfied: joblib>=1.2.0 in /Users/raneem/.pyenv/versions/3.13.0/lib/python3.13/site-packages (from scikit-learn->sentence-transformers) (1.4.2)\n",
      "Requirement already satisfied: threadpoolctl>=3.1.0 in /Users/raneem/.pyenv/versions/3.13.0/lib/python3.13/site-packages (from scikit-learn->sentence-transformers) (3.6.0)\n",
      "Note: you may need to restart the kernel to use updated packages.\n",
      "Collecting faiss-cpu\n",
      "  Downloading faiss_cpu-1.11.0-cp313-cp313-macosx_14_0_arm64.whl.metadata (4.8 kB)\n",
      "Requirement already satisfied: numpy<3.0,>=1.25.0 in /Users/raneem/.pyenv/versions/3.13.0/lib/python3.13/site-packages (from faiss-cpu) (2.2.4)\n",
      "Requirement already satisfied: packaging in /Users/raneem/.pyenv/versions/3.13.0/lib/python3.13/site-packages (from faiss-cpu) (24.2)\n",
      "Downloading faiss_cpu-1.11.0-cp313-cp313-macosx_14_0_arm64.whl (3.3 MB)\n",
      "\u001b[2K   \u001b[90m━━━━━━━━━━━━━━━━━━━━━━━━━━━━━━━━━━━━━━━━\u001b[0m \u001b[32m3.3/3.3 MB\u001b[0m \u001b[31m9.9 MB/s\u001b[0m eta \u001b[36m0:00:00\u001b[0ma \u001b[36m0:00:01\u001b[0m\n",
      "\u001b[?25hInstalling collected packages: faiss-cpu\n",
      "Successfully installed faiss-cpu-1.11.0\n",
      "Note: you may need to restart the kernel to use updated packages.\n"
     ]
    }
   ],
   "source": [
    "%pip install langchain openai\n",
    "%pip install langchain\n",
    "%pip install -U langchain-community\n",
    "%pip install sentence-transformers\n",
    "%pip install faiss-cpu "
   ]
  },
  {
   "cell_type": "markdown",
   "metadata": {},
   "source": [
    "##  set your OpenAI API key"
   ]
  },
  {
   "cell_type": "code",
   "execution_count": 8,
   "metadata": {},
   "outputs": [],
   "source": [
    "# set OpenAI and chroma API key .env\n",
    "import os\n",
    "from dotenv import load_dotenv\n",
    "load_dotenv()\n",
    "os.environ[\"OPENAI_API_KEY\"] = os.getenv(\"OPENAI_API_KEY\")\n",
    "\n",
    "OPENAI_API_KEY = os.getenv(\"OPENAI_API_KEY\")"
   ]
  },
  {
   "cell_type": "markdown",
   "metadata": {},
   "source": [
    "## Load and Prepare JSON Data\n"
   ]
  },
  {
   "cell_type": "code",
   "execution_count": 9,
   "metadata": {},
   "outputs": [],
   "source": [
    "import json\n",
    "\n",
    "with open(\"/Users/raneem/Desktop/RimalAI/RimalAI_dataset_expanded.json\", \"r\", encoding=\"utf-8\") as f:\n",
    "    data = json.load(f)\n",
    "\n",
    "docs = []\n",
    "metadatas = []\n",
    "ids = []\n",
    "\n",
    "for entry in data:\n",
    "    # Concatenate relevant fields for embedding\n",
    "    doc_text = f\"{entry['name']} ({entry['type']}): {entry.get('description', '')} Vision 2030: {entry.get('vision2030', '')}\"\n",
    "    docs.append(doc_text)\n",
    "    metadatas.append({\"id\": entry[\"id\"], \"type\": entry[\"type\"], \"name\": entry[\"name\"]})\n",
    "    ids.append(str(entry[\"id\"]))\n"
   ]
  },
  {
   "cell_type": "markdown",
   "metadata": {},
   "source": [
    "## Create Embeddings and FAISS Vector Store"
   ]
  },
  {
   "cell_type": "code",
   "execution_count": 10,
   "metadata": {},
   "outputs": [
    {
     "name": "stdout",
     "output_type": "stream",
     "text": [
      "FAISS vector DB created and saved!\n"
     ]
    }
   ],
   "source": [
    "from langchain.embeddings import HuggingFaceEmbeddings\n",
    "from langchain.vectorstores import FAISS\n",
    "\n",
    "# Use a sentence-transformers model for embeddings\n",
    "embeddings = HuggingFaceEmbeddings(model_name=\"all-MiniLM-L6-v2\")\n",
    "\n",
    "# Create the FAISS vector store\n",
    "vectordb = FAISS.from_texts(\n",
    "    texts=docs,\n",
    "    embedding=embeddings,\n",
    "    metadatas=metadatas\n",
    ")\n",
    "\n",
    "# Save the FAISS index for later use\n",
    "vectordb.save_local(\"faiss_rimalai_db\")\n",
    "print(\"FAISS vector DB created and saved!\")\n"
   ]
  },
  {
   "cell_type": "markdown",
   "metadata": {},
   "source": [
    "## Query the Vector Database"
   ]
  },
  {
   "cell_type": "code",
   "execution_count": 14,
   "metadata": {},
   "outputs": [
    {
     "name": "stdout",
     "output_type": "stream",
     "text": [
      "Content: Al-Ula (landmark): Al-Ula is an ancient city located in northwestern Saudi Arabia, famous for its sandstone mountains, historic tombs, and rich Nabatean heritage. It has been a crossroads for ancient civilizations and a center of trade and culture. The city is home to significant archaeological sites like Mada'in Saleh, and its unique rock formations make it a prime location for tourists and historians alike. Vision 2030: Al-Ula is a centerpiece of Saudi Arabia's Vision 2030, aiming to transform the city into a world-class tourism destination while preserving its archaeological and cultural heritage. The city is also committed to sustainable tourism practices, ensuring that its natural beauty and historical value are maintained for future generations.\n",
      "Metadata: {'id': 1, 'type': 'landmark', 'name': 'Al-Ula'}\n",
      "---\n",
      "Content: Neom (city): Neom is a planned city in northwestern Saudi Arabia, designed to be a hub for technological innovation, sustainable living, and tourism. It combines advanced infrastructure with renewable energy, artificial intelligence, and environmental sustainability. Located along the Red Sea coast, Neom blends modernity with nature. Vision 2030: Neom is a flagship project of Saudi Arabia's Vision 2030, aimed at diversifying the economy, creating sustainable urban spaces, and positioning Saudi Arabia as a leader in innovation and technology.\n",
      "Metadata: {'id': 2, 'type': 'city', 'name': 'Neom'}\n",
      "---\n",
      "Content: Diriyah (landmark): Diriyah is the historic birthplace of the Saudi state, known for its mud-brick architecture and UNESCO World Heritage status. Vision 2030: The Diriyah Gate project is a key cultural initiative under Vision 2030, aiming to restore and develop Diriyah as a premier cultural and tourist destination.\n",
      "Metadata: {'id': 4, 'type': 'landmark', 'name': 'Diriyah'}\n",
      "---\n"
     ]
    }
   ],
   "source": [
    "from langchain.embeddings import HuggingFaceEmbeddings\n",
    "from langchain.vectorstores import FAISS\n",
    "\n",
    "embeddings = HuggingFaceEmbeddings(model_name=\"all-MiniLM-L6-v2\")\n",
    "\n",
    "vectordb = FAISS.load_local(\n",
    "    \"faiss_rimalai_db\",\n",
    "    embeddings,\n",
    "    allow_dangerous_deserialization=True  \n",
    ")\n",
    "\n",
    "query = \"ancient Saudi cities\"\n",
    "results = vectordb.similarity_search(query, k=3)\n",
    "\n",
    "for doc in results:\n",
    "    print(\"Content:\", doc.page_content)\n",
    "    print(\"Metadata:\", doc.metadata)\n",
    "    print(\"---\")\n"
   ]
  },
  {
   "cell_type": "markdown",
   "metadata": {},
   "source": [
    "## LangChain RetrievalQA (\"gpt-4o\")"
   ]
  },
  {
   "cell_type": "code",
   "execution_count": 16,
   "metadata": {},
   "outputs": [
    {
     "name": "stdout",
     "output_type": "stream",
     "text": [
      "Saudi Arabia's Vision 2030 is a strategic framework aimed at diversifying the country's economy and reducing its dependency on oil. Several key projects are part of this vision, focusing on cultural, technological, and sustainable development:\n",
      "\n",
      "1. **Diriyah Gate Project**: This initiative aims to restore and develop Diriyah, the historic birthplace of the Saudi state, into a premier cultural and tourist destination. Known for its mud-brick architecture and UNESCO World Heritage status, Diriyah is a significant cultural landmark.\n",
      "\n",
      "2. **Al-Ula**: Al-Ula is being transformed into a world-class tourism destination while preserving its archaeological and cultural heritage. The project highlights sustainable tourism practices, ensuring the protection of its natural beauty and historical sites like Mada'in Saleh.\n",
      "\n",
      "3. **Neom**: Neom is a planned city that serves as a hub for technological innovation, sustainable living, and tourism. The city, located along the Red Sea coast, integrates advanced infrastructure with renewable energy, artificial intelligence, and environmental sustainability.\n",
      "\n",
      "4. **Saudi Coffee (Gahwa)**: As part of promoting its intangible cultural heritage, Saudi coffee is being highlighted to enhance cultural tourism. It symbolizes hospitality in Saudi culture and is often served during social gatherings.\n",
      "\n",
      "These projects collectively contribute to diversifying the economy, promoting cultural heritage, and establishing Saudi Arabia as a leader in innovation and sustainable development.\n"
     ]
    }
   ],
   "source": [
    "from langchain.chains import RetrievalQA\n",
    "from langchain.chat_models import ChatOpenAI\n",
    "\n",
    "llm = ChatOpenAI(model_name=\"gpt-4o\")  \n",
    "\n",
    "qa_chain = RetrievalQA.from_chain_type(\n",
    "    llm=llm,\n",
    "    chain_type=\"stuff\",\n",
    "    retriever=vectordb.as_retriever()\n",
    ")\n",
    "\n",
    "response = qa_chain(\"Tell me about Vision 2030 projects in Saudi Arabia.\")\n",
    "print(response[\"result\"])\n",
    "\n"
   ]
  },
  {
   "cell_type": "markdown",
   "metadata": {},
   "source": [
    "## LangChain RetrievalQA (gpt-4)"
   ]
  },
  {
   "cell_type": "code",
   "execution_count": 17,
   "metadata": {},
   "outputs": [
    {
     "name": "stdout",
     "output_type": "stream",
     "text": [
      "Vision 2030 is a strategic framework launched by Saudi Arabia with the aim to diversify its economy, reduce its dependence on oil, and develop public service sectors such as health, education, infrastructure, recreation and tourism. There are several key projects under this initiative:\n",
      "\n",
      "1. Diriyah Gate: This project aims to restore and develop Diriyah, the historic birthplace of the Saudi state, into a premier cultural and tourist destination. Known for its mud-brick architecture and UNESCO World Heritage status, the Diriyah Gate project is a key cultural initiative under Vision 2030.\n",
      "\n",
      "2. Al-Ula Development: Al-Ula, an ancient city with rich Nabatean heritage, is another centerpiece of Vision 2030. The plan is to transform Al-Ula into a world-class tourism destination while preserving its archaeological and cultural heritage. The city is committed to sustainable tourism practices to ensure its natural beauty and historical value are maintained for future generations.\n",
      "\n",
      "3. Neom City: Neom is a planned city in northwestern Saudi Arabia that is designed to be a hub for technological innovation, sustainable living, and tourism. As a flagship project of Vision 2030, Neom intends to diversify the economy, create sustainable urban spaces, and position Saudi Arabia as a leader in innovation and technology.\n",
      "\n",
      "4. Promoting Saudi Coffee (Gahwa): Saudi coffee is a traditional beverage symbolizing hospitality. Under Vision 2030, it's being promoted as part of the intangible cultural heritage to enhance cultural tourism.\n"
     ]
    }
   ],
   "source": [
    "from langchain.chains import RetrievalQA\n",
    "from langchain.chat_models import ChatOpenAI\n",
    "\n",
    "llm = ChatOpenAI(model_name=\"gpt-4\")  \n",
    "\n",
    "qa_chain = RetrievalQA.from_chain_type(\n",
    "    llm=llm,\n",
    "    chain_type=\"stuff\",\n",
    "    retriever=vectordb.as_retriever()\n",
    ")\n",
    "\n",
    "response = qa_chain(\"Tell me about Vision 2030 projects in Saudi Arabia.\")\n",
    "print(response[\"result\"])"
   ]
  },
  {
   "cell_type": "markdown",
   "metadata": {},
   "source": [
    "## LangChain RetrievalQA (gpt-3.5-turbo)"
   ]
  },
  {
   "cell_type": "code",
   "execution_count": 18,
   "metadata": {},
   "outputs": [
    {
     "name": "stdout",
     "output_type": "stream",
     "text": [
      "In Saudi Arabia, Vision 2030 is a strategic framework aimed at diversifying the economy, reducing dependency on oil, and transforming various sectors. Some of the key Vision 2030 projects include the Diriyah Gate project in Diriyah, the Al-Ula development project in Al-Ula, and the Neom project in northwestern Saudi Arabia. These projects focus on cultural preservation, tourism development, technological innovation, and sustainable living practices to help achieve the goals set out in Vision 2030. Additionally, the promotion of Saudi coffee (Gahwa) as part of intangible cultural heritage is another aspect of Vision 2030 aimed at enhancing cultural tourism.\n"
     ]
    }
   ],
   "source": [
    "from langchain.chains import RetrievalQA\n",
    "from langchain.chat_models import ChatOpenAI\n",
    "\n",
    "llm = ChatOpenAI(model_name=\"gpt-3.5-turbo\")  \n",
    "\n",
    "qa_chain = RetrievalQA.from_chain_type(\n",
    "    llm=llm,\n",
    "    chain_type=\"stuff\",\n",
    "    retriever=vectordb.as_retriever()\n",
    ")\n",
    "\n",
    "response = qa_chain(\"Tell me about Vision 2030 projects in Saudi Arabia.\")\n",
    "print(response[\"result\"])"
   ]
  }
 ],
 "metadata": {
  "kernelspec": {
   "display_name": "Python 3",
   "language": "python",
   "name": "python3"
  },
  "language_info": {
   "codemirror_mode": {
    "name": "ipython",
    "version": 3
   },
   "file_extension": ".py",
   "mimetype": "text/x-python",
   "name": "python",
   "nbconvert_exporter": "python",
   "pygments_lexer": "ipython3",
   "version": "3.13.0"
  }
 },
 "nbformat": 4,
 "nbformat_minor": 2
}
