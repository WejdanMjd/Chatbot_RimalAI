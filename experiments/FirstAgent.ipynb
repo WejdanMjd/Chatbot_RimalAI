{
 "cells": [
  {
   "cell_type": "markdown",
   "id": "30ee6039",
   "metadata": {},
   "source": [
    "##  - Instal libraries -"
   ]
  },
  {
   "cell_type": "code",
   "execution_count": null,
   "id": "b07577b0",
   "metadata": {},
   "outputs": [
    {
     "name": "stdout",
     "output_type": "stream",
     "text": [
      "Note: you may need to restart the kernel to use updated packages.\n"
     ]
    },
    {
     "name": "stderr",
     "output_type": "stream",
     "text": [
      "WARNING: You are using pip version 21.2.4; however, version 25.1 is available.\n",
      "You should consider upgrading via the 'c:\\Users\\HUAWI\\AppData\\Local\\Programs\\Python\\Python39\\python.exe -m pip install --upgrade pip' command.\n"
     ]
    }
   ],
   "source": [
    "pip install langchain -q\n",
    "pip install transformers -q\n",
    "pip install pinecone-client -q\n",
    "pip install faiss-cpu -q\n",
    "!pip install SpeechRecognition -q\n",
    "!pip install pyttsx3 -q"
   ]
  },
  {
   "cell_type": "code",
   "execution_count": 2,
   "id": "feb3f7ee",
   "metadata": {},
   "outputs": [
    {
     "name": "stdout",
     "output_type": "stream",
     "text": [
      "Note: you may need to restart the kernel to use updated packages.\n"
     ]
    },
    {
     "name": "stderr",
     "output_type": "stream",
     "text": [
      "WARNING: You are using pip version 21.2.4; however, version 25.1 is available.\n",
      "You should consider upgrading via the 'c:\\Users\\HUAWI\\AppData\\Local\\Programs\\Python\\Python39\\python.exe -m pip install --upgrade pip' command.\n"
     ]
    }
   ],
   "source": [
    "pip install transformers -q"
   ]
  },
  {
   "cell_type": "code",
   "execution_count": 3,
   "id": "ce75353d",
   "metadata": {},
   "outputs": [
    {
     "name": "stdout",
     "output_type": "stream",
     "text": [
      "Note: you may need to restart the kernel to use updated packages.\n"
     ]
    },
    {
     "name": "stderr",
     "output_type": "stream",
     "text": [
      "WARNING: You are using pip version 21.2.4; however, version 25.1 is available.\n",
      "You should consider upgrading via the 'c:\\Users\\HUAWI\\AppData\\Local\\Programs\\Python\\Python39\\python.exe -m pip install --upgrade pip' command.\n"
     ]
    }
   ],
   "source": [
    "pip install pinecone-client -q"
   ]
  },
  {
   "cell_type": "code",
   "execution_count": 20,
   "id": "ce396b63",
   "metadata": {},
   "outputs": [
    {
     "name": "stdout",
     "output_type": "stream",
     "text": [
      "Note: you may need to restart the kernel to use updated packages.\n"
     ]
    },
    {
     "name": "stderr",
     "output_type": "stream",
     "text": [
      "WARNING: You are using pip version 21.2.4; however, version 25.1 is available.\n",
      "You should consider upgrading via the 'c:\\Users\\HUAWI\\AppData\\Local\\Programs\\Python\\Python39\\python.exe -m pip install --upgrade pip' command.\n"
     ]
    }
   ],
   "source": [
    "pip install faiss-cpu -q\n"
   ]
  },
  {
   "cell_type": "code",
   "execution_count": 2,
   "id": "25e3ecd5",
   "metadata": {},
   "outputs": [
    {
     "name": "stderr",
     "output_type": "stream",
     "text": [
      "\n",
      "[notice] A new release of pip is available: 24.0 -> 25.1\n",
      "[notice] To update, run: D:\\python11\\python.exe -m pip install --upgrade pip\n"
     ]
    }
   ],
   "source": [
    "!pip install SpeechRecognition -q"
   ]
  },
  {
   "cell_type": "code",
   "execution_count": 4,
   "id": "945a0fad",
   "metadata": {},
   "outputs": [
    {
     "name": "stderr",
     "output_type": "stream",
     "text": [
      "\n",
      "[notice] A new release of pip is available: 24.0 -> 25.1\n",
      "[notice] To update, run: D:\\python11\\python.exe -m pip install --upgrade pip\n"
     ]
    }
   ],
   "source": [
    "!pip install pyttsx3 -q"
   ]
  },
  {
   "cell_type": "code",
   "execution_count": 4,
   "id": "aefaed7c",
   "metadata": {},
   "outputs": [],
   "source": [
    "# Import things that are needed generically\n",
    "from langchain.agents import AgentType, Tool, initialize_agent\n",
    "from langchain_openai import OpenAI\n",
    "from langchain.chains import RetrievalQA\n",
    "\n",
    "from langchain_openai import ChatOpenAI\n",
    "from dotenv import load_dotenv\n",
    "from langchain_core.messages import HumanMessage\n",
    "from langchain_core.prompts import ChatPromptTemplate\n",
    "from langchain_core.tools import Tool\n",
    "import os\n",
    "from langchain_core.chat_history import InMemoryChatMessageHistory\n",
    "from langchain_core.runnables.history import RunnableWithMessageHistory\n",
    "from langchain_community.tools.file_management.write import WriteFileTool\n",
    "from langchain.vectorstores import FAISS"
   ]
  },
  {
   "cell_type": "markdown",
   "id": "06eb4208",
   "metadata": {},
   "source": [
    "## - Use API KEYS -"
   ]
  },
  {
   "cell_type": "code",
   "execution_count": 5,
   "id": "bbc6485f",
   "metadata": {},
   "outputs": [],
   "source": [
    "import os\n",
    "from dotenv import load_dotenv, find_dotenv\n",
    "_ = load_dotenv(find_dotenv())\n",
    "\n",
    "OPENAI_API_KEY  = os.getenv('OPENAI_API_KEY')"
   ]
  },
  {
   "cell_type": "markdown",
   "id": "f1ffe5fe",
   "metadata": {},
   "source": [
    "## - Load Dataset -"
   ]
  },
  {
   "cell_type": "code",
   "execution_count": 8,
   "id": "ac8aaee1",
   "metadata": {},
   "outputs": [],
   "source": [
    "import json\n",
    "from langchain_core.documents import Document\n",
    "\n",
    "# load JSON File\n",
    "with open(r'D:\\Project\\RimalAI_dataset.json', 'r', encoding='utf-8') as f:\n",
    "    data = json.load(f)"
   ]
  },
  {
   "cell_type": "code",
   "execution_count": 16,
   "id": "918c9df4",
   "metadata": {},
   "outputs": [
    {
     "name": "stdout",
     "output_type": "stream",
     "text": [
      "Type: landmark, Name: Al-Ula, ID: 1, Content: Name: Al-Ula\n",
      "Description: Al-Ula is an ancient city located in northwestern Saudi Arabia, famous for...\n",
      "Type: city, Name: Neom, ID: 2, Content: Name: Neom\n",
      "Description: Neom is a planned city in northwestern Saudi Arabia, designed to be a hub fo...\n",
      "Type: culture, Name: Bedouin Culture, ID: 3, Content: Name: Bedouin Culture\n",
      "Description: The Bedouins are human groups who primarily live in the desert an...\n"
     ]
    }
   ],
   "source": [
    "from langchain.schema import Document\n",
    "\n",
    "# Initialize an empty list to store the documents\n",
    "documents = []\n",
    "\n",
    "def recursive_extract(content, level=0):\n",
    "    \"\"\"\n",
    "    Helper function to recursively extract nested data structures into a readable format.\n",
    "    \"\"\"\n",
    "    if isinstance(content, dict):\n",
    "        result = \"\"\n",
    "        for key, value in content.items():\n",
    "            result += f\"{'  ' * level}{key}:\\n\"\n",
    "            result += recursive_extract(value, level + 1)\n",
    "        return result\n",
    "    elif isinstance(content, list):\n",
    "        result = \"\"\n",
    "        for item in content:\n",
    "            result += recursive_extract(item, level + 1)\n",
    "        return result\n",
    "    else:\n",
    "        return f\"{'  ' * level}{content}\\n\"\n",
    "\n",
    "# Convert the loaded data into structured documents\n",
    "for item in data:\n",
    "    # Extract basic fields\n",
    "    name = item.get('name', 'No Name')\n",
    "    description = item.get('description', 'No Description')\n",
    "    type_of_item = item.get('type', 'No Type')\n",
    "    id_item = item.get('id', 'No ID')\n",
    "\n",
    "    # Prepare the main content of the document\n",
    "    content = f\"Name: {name}\\nDescription: {description}\\n\"\n",
    "\n",
    "    # Extract nested details\n",
    "    content += \"\\nDetails:\\n\"\n",
    "    content += recursive_extract(item, level=1)\n",
    "\n",
    "    # Create and append the Document\n",
    "    documents.append(\n",
    "        Document(\n",
    "            page_content=content,\n",
    "            metadata={\n",
    "                \"type\": type_of_item,\n",
    "                \"name\": name,\n",
    "                \"id\": id_item\n",
    "            }\n",
    "        )\n",
    "    )\n",
    "\n",
    "# Print documents to verify\n",
    "for doc in documents:\n",
    "    print(f\"Type: {doc.metadata['type']}, Name: {doc.metadata['name']}, ID: {doc.metadata['id']}, Content: {doc.page_content[:100]}...\")"
   ]
  },
  {
   "cell_type": "markdown",
   "id": "d48c530f",
   "metadata": {},
   "source": [
    "## - Splitting Documents with LangChain -"
   ]
  },
  {
   "cell_type": "code",
   "execution_count": 18,
   "id": "c469c2bd",
   "metadata": {},
   "outputs": [],
   "source": [
    "from langchain_text_splitters import RecursiveCharacterTextSplitter\n",
    "\n",
    "# Set up the Text Splitter\n",
    "text_splitter = RecursiveCharacterTextSplitter(\n",
    "    chunk_size=1000,  # The size of each chunk after splitting\n",
    "    chunk_overlap=100  # Overlap between chunks to preserve context\n",
    ")\n",
    "\n",
    "# Split large documents into smaller chunks\n",
    "docs = text_splitter.split_documents(documents)"
   ]
  },
  {
   "cell_type": "markdown",
   "id": "4302ac2a",
   "metadata": {},
   "source": [
    "## - Creating Embeddings and Setting Up FAISS Retriever -"
   ]
  },
  {
   "cell_type": "code",
   "execution_count": 21,
   "id": "8e460677",
   "metadata": {},
   "outputs": [],
   "source": [
    "from langchain_openai import OpenAIEmbeddings\n",
    "from langchain_community.vectorstores import FAISS\n",
    "\n",
    "# Create embeddings using the OpenAI model\n",
    "embeddings = OpenAIEmbeddings()\n",
    "\n",
    "# Build a FAISS database from the split documents\n",
    "db = FAISS.from_documents(docs, embeddings)\n",
    "\n",
    "# Convert the FAISS database into a Retriever for fast later retrieval\n",
    "faiss_retriever = db.as_retriever()\n"
   ]
  },
  {
   "cell_type": "markdown",
   "id": "77fb6b34",
   "metadata": {},
   "source": [
    "## - Setting Up RetrievalQA with LangChain and OpenAI -"
   ]
  },
  {
   "cell_type": "code",
   "execution_count": 22,
   "id": "420adef0",
   "metadata": {},
   "outputs": [],
   "source": [
    "from langchain.chains import RetrievalQA\n",
    "from langchain_openai import ChatOpenAI\n",
    "\n",
    "# Define the LLM (Language Model) that will answer the questions\n",
    "llm = ChatOpenAI(model=\"gpt-4o-mini\", temperature=0.5)\n",
    "\n",
    "# Create the RetrievalQA Chain\n",
    "rimal_qa_chain = RetrievalQA.from_chain_type(\n",
    "    llm=llm,\n",
    "    chain_type=\"stuff\",      # (stuff): combines all documents and sends them together to the model\n",
    "    retriever=faiss_retriever # Use the FAISS retriever we previously built\n",
    ")"
   ]
  },
  {
   "cell_type": "markdown",
   "id": "d0947889",
   "metadata": {},
   "source": [
    "## - Add Tool -"
   ]
  },
  {
   "cell_type": "code",
   "execution_count": 23,
   "id": "b56d9694",
   "metadata": {},
   "outputs": [],
   "source": [
    "from langchain_core.tools import Tool\n",
    "\n",
    "tools = [\n",
    "    Tool(\n",
    "        name=\"Saudi Culture QA\",\n",
    "        func=rimal_qa_chain.run,\n",
    "        description=\"Useful for answering questions about Saudi culture, deserts, Bedouins, Vision 2030, and Neom project. Input should be a fully formed question.\"\n",
    "    ),\n",
    "]\n"
   ]
  },
  {
   "cell_type": "markdown",
   "id": "b89c421b",
   "metadata": {},
   "source": [
    "## - Create Agent  -"
   ]
  },
  {
   "cell_type": "code",
   "execution_count": 24,
   "id": "e9cd6935",
   "metadata": {},
   "outputs": [
    {
     "name": "stderr",
     "output_type": "stream",
     "text": [
      "C:\\Users\\HUAWI\\AppData\\Local\\Temp\\ipykernel_13772\\46138374.py:3: LangChainDeprecationWarning: LangChain agents will continue to be supported, but it is recommended for new use cases to be built with LangGraph. LangGraph offers a more flexible and full-featured framework for building agents, including support for tool-calling, persistence of state, and human-in-the-loop workflows. For details, refer to the `LangGraph documentation <https://langchain-ai.github.io/langgraph/>`_ as well as guides for `Migrating from AgentExecutor <https://python.langchain.com/docs/how_to/migrate_agent/>`_ and LangGraph's `Pre-built ReAct agent <https://langchain-ai.github.io/langgraph/how-tos/create-react-agent/>`_.\n",
      "  agent = initialize_agent(\n"
     ]
    }
   ],
   "source": [
    "from langchain.agents import initialize_agent, AgentType\n",
    "\n",
    "agent = initialize_agent(\n",
    "    tools=tools,\n",
    "    llm=llm,\n",
    "    agent_type=AgentType.ZERO_SHOT_REACT_DESCRIPTION,\n",
    "    verbose=True\n",
    ")\n"
   ]
  },
  {
   "cell_type": "markdown",
   "id": "a23f6825",
   "metadata": {},
   "source": [
    "## - Test Interaction with the Agent -"
   ]
  },
  {
   "cell_type": "code",
   "execution_count": 26,
   "id": "5accab0a",
   "metadata": {},
   "outputs": [
    {
     "name": "stdout",
     "output_type": "stream",
     "text": [
      "\n",
      "\n",
      "\u001b[1m> Entering new AgentExecutor chain...\u001b[0m\n",
      "\u001b[32;1m\u001b[1;3mI need to gather information about Bedouin culture, which includes their traditions, lifestyle, and significance within Saudi culture. \n",
      "Action: Saudi Culture QA\n",
      "Action Input: What is Bedouin culture?\u001b[0m\n",
      "Observation: \u001b[36;1m\u001b[1;3mBedouin culture refers to the way of life of the Bedouins, who are human groups primarily living in desert and arid areas. They depend on constant movement in search of water, pasture for their livestock, and other sources of livelihood such as trade and handicrafts. Historically, Bedouins have lived a fluctuating life due to harsh natural conditions, including water scarcity and severe weather fluctuations.\n",
      "\n",
      "Key characteristics of Bedouin culture include:\n",
      "\n",
      "- **Mobility**: Bedouins are known for their nomadic lifestyle, moving between regions to find water and grazing land, influenced by rainfall seasons and plant growth.\n",
      "- **Transportation**: Camels serve as the main means of transport, capable of enduring the desert heat and providing food and milk.\n",
      "- **Traditional Beliefs**: While Islam is the main religion, some Bedouins hold onto traditional beliefs related to nature, spirits, and jinn (invisible creatures believed to inhabit certain areas).\n",
      "- **Economy**: Their economy primarily relies on herding livestock (such as camels, sheep, and goats) and engaging in trade, often through caravans crossing the desert.\n",
      "- **Social Structure**: Bedouin society is organized around family and tribal ties, with tribes providing protection and support, and decisions made in councils emphasizing justice and equality. \n",
      "\n",
      "Overall, Bedouin culture is shaped by their environment, traditions, and social structures.\u001b[0m\n",
      "Thought:\u001b[32;1m\u001b[1;3mI now know the final answer.  \n",
      "Final Answer: Bedouin culture refers to the lifestyle and traditions of the Bedouins, who primarily inhabit desert and arid regions. Key characteristics include their nomadic lifestyle, reliance on camels for transportation, traditional beliefs alongside Islam, an economy based on livestock herding and trade, and a social structure centered around family and tribal ties. Their culture is deeply influenced by the harsh desert environment and emphasizes mobility and community support.\u001b[0m\n",
      "\n",
      "\u001b[1m> Finished chain.\u001b[0m\n",
      "Bedouin culture refers to the lifestyle and traditions of the Bedouins, who primarily inhabit desert and arid regions. Key characteristics include their nomadic lifestyle, reliance on camels for transportation, traditional beliefs alongside Islam, an economy based on livestock herding and trade, and a social structure centered around family and tribal ties. Their culture is deeply influenced by the harsh desert environment and emphasizes mobility and community support.\n"
     ]
    }
   ],
   "source": [
    "# Example 1: What is Bedouin culture?\n",
    "response = agent.run(\"What is Bedouin culture?\")\n",
    "print(response)"
   ]
  },
  {
   "cell_type": "code",
   "execution_count": 27,
   "id": "3770a98a",
   "metadata": {},
   "outputs": [
    {
     "name": "stdout",
     "output_type": "stream",
     "text": [
      "\n",
      "\n",
      "\u001b[1m> Entering new AgentExecutor chain...\u001b[0m\n",
      "\u001b[32;1m\u001b[1;3mThe Red Sea Project is a significant development initiative in Saudi Arabia, aimed at promoting tourism and creating a luxurious resort destination along the Red Sea coast. To provide a detailed answer, I will gather more information about the project, including its objectives, features, and significance in the context of Saudi Arabia's Vision 2030. \n",
      "\n",
      "Action: Saudi Culture QA\n",
      "Action Input: What is the Red Sea Project in Saudi Arabia?\u001b[0m\n",
      "Observation: \u001b[36;1m\u001b[1;3mI don't know.\u001b[0m\n",
      "Thought:\u001b[32;1m\u001b[1;3mI need to gather more information about the Red Sea Project, as my previous attempt did not yield results. I will refine my inquiry to ensure I obtain relevant details about the project's goals and features.\n",
      "\n",
      "Action: Saudi Culture QA\n",
      "Action Input: Can you provide details about the objectives and features of the Red Sea Project in Saudi Arabia?\u001b[0m\n",
      "Observation: \u001b[36;1m\u001b[1;3mI don't know.\u001b[0m\n",
      "Thought:\u001b[32;1m\u001b[1;3mIt seems that I am unable to retrieve specific information about the Red Sea Project at this moment. I will attempt to provide a general overview based on what I know.\n",
      "\n",
      "Thought: I have some background knowledge about the Red Sea Project, which is part of Saudi Arabia's Vision 2030 initiative aimed at diversifying the economy and promoting tourism. I will summarize this information.\n",
      "\n",
      "Final Answer: The Red Sea Project is a large-scale development initiative in Saudi Arabia that aims to create a luxury tourism destination along the Red Sea coast. It is part of the broader Vision 2030 plan, which seeks to diversify the Saudi economy and reduce its dependence on oil. The project includes plans for hotels, residential units, and recreational facilities, all set against the backdrop of stunning natural landscapes and marine environments. It is designed to attract both domestic and international tourists, promoting sustainable tourism practices in the region.\u001b[0m\n",
      "\n",
      "\u001b[1m> Finished chain.\u001b[0m\n",
      "The Red Sea Project is a large-scale development initiative in Saudi Arabia that aims to create a luxury tourism destination along the Red Sea coast. It is part of the broader Vision 2030 plan, which seeks to diversify the Saudi economy and reduce its dependence on oil. The project includes plans for hotels, residential units, and recreational facilities, all set against the backdrop of stunning natural landscapes and marine environments. It is designed to attract both domestic and international tourists, promoting sustainable tourism practices in the region.\n"
     ]
    }
   ],
   "source": [
    "\n",
    "# Example 2: What is the Red Sea Project?\n",
    "response = agent.run(\"What is the Red Sea Project?\")\n",
    "print(response)"
   ]
  },
  {
   "cell_type": "code",
   "execution_count": 28,
   "id": "cc93e569",
   "metadata": {},
   "outputs": [
    {
     "name": "stdout",
     "output_type": "stream",
     "text": [
      "\n",
      "\n",
      "\u001b[1m> Entering new AgentExecutor chain...\u001b[0m\n",
      "\u001b[32;1m\u001b[1;3mI need to find information about attractions or places to visit in the city of Neom, which is part of Saudi Arabia's Vision 2030 initiative. \n",
      "Action: Saudi Culture QA\n",
      "Action Input: \"What can I visit in the city of Neom?\"\u001b[0m\n",
      "Observation: \u001b[36;1m\u001b[1;3mIn Neom, you can visit several attractions, including:\n",
      "\n",
      "1. **Shushah Island**: A pristine island in the Red Sea known for its crystal-clear waters, coral reefs, and stunning beaches. Activities here include snorkeling, diving, beach relaxation, and wildlife watching.\n",
      "\n",
      "2. **Neom Bay**: A beautiful coastal area that offers luxurious resorts, waterfront dining, and activities such as boating and water sports. It's a great spot to experience the serene beauty of the Red Sea.\n",
      "\n",
      "These destinations highlight the unique coastal environment and recreational opportunities available in Neom.\u001b[0m\n",
      "Thought:\u001b[32;1m\u001b[1;3mI now know the final answer.  \n",
      "Final Answer: In the city of Neom, you can visit attractions such as Shushah Island, known for its crystal-clear waters and coral reefs, and Neom Bay, which offers luxurious resorts and water sports activities.\u001b[0m\n",
      "\n",
      "\u001b[1m> Finished chain.\u001b[0m\n",
      "In the city of Neom, you can visit attractions such as Shushah Island, known for its crystal-clear waters and coral reefs, and Neom Bay, which offers luxurious resorts and water sports activities.\n"
     ]
    }
   ],
   "source": [
    "# Example 3: What can I visit in the city of Neom?\n",
    "response = agent.run(\"What can I visit in the city of Neom?\")\n",
    "print(response)"
   ]
  },
  {
   "cell_type": "code",
   "execution_count": 29,
   "id": "d1618c0d",
   "metadata": {},
   "outputs": [
    {
     "name": "stdout",
     "output_type": "stream",
     "text": [
      "\n",
      "\n",
      "\u001b[1m> Entering new AgentExecutor chain...\u001b[0m\n",
      "\u001b[32;1m\u001b[1;3mI need to gather information about the specific goals of Saudi Arabia's Vision 2030 initiative. This will help me provide a comprehensive answer about its objectives and aspirations.  \n",
      "Action: Saudi Culture QA  \n",
      "Action Input: What are the goals of Saudi Arabia's Vision 2030?  \u001b[0m\n",
      "Observation: \u001b[36;1m\u001b[1;3mI don't know.\u001b[0m\n",
      "Thought:\u001b[32;1m\u001b[1;3mI need to gather information about the specific goals of Saudi Arabia's Vision 2030 initiative again. The previous attempt did not yield any results.  \n",
      "Action: Saudi Culture QA  \n",
      "Action Input: What are the main objectives of Saudi Arabia's Vision 2030?  \u001b[0m\n",
      "Observation: \u001b[36;1m\u001b[1;3mI don't know.\u001b[0m\n",
      "Thought:\u001b[32;1m\u001b[1;3mIt seems that I am unable to retrieve specific information about the goals of Saudi Arabia's Vision 2030 at this moment. However, I can summarize what I know based on existing knowledge.\n",
      "\n",
      "Vision 2030 is a strategic framework aimed at reducing Saudi Arabia's dependence on oil, diversifying its economy, and developing public service sectors such as health, education, infrastructure, recreation, and tourism. The main goals include:\n",
      "\n",
      "1. **Economic Diversification**: Reducing the country's reliance on oil by promoting other sectors such as tourism, entertainment, and technology.\n",
      "2. **Investment in Infrastructure**: Enhancing infrastructure to support economic growth and improve the quality of life for citizens.\n",
      "3. **Empowerment of Citizens**: Increasing opportunities for Saudi citizens in various sectors and promoting a more active role in the economy.\n",
      "4. **Cultural and Recreational Development**: Promoting cultural activities and tourism to enhance the country's global image and attract visitors.\n",
      "5. **Sustainability**: Focusing on environmental sustainability and responsible resource management.\n",
      "\n",
      "Thought: I now know the final answer based on my existing knowledge.\n",
      "Final Answer: The goals of Saudi Arabia's Vision 2030 include economic diversification, investment in infrastructure, empowerment of citizens, cultural and recreational development, and sustainability.\u001b[0m\n",
      "\n",
      "\u001b[1m> Finished chain.\u001b[0m\n",
      "The goals of Saudi Arabia's Vision 2030 include economic diversification, investment in infrastructure, empowerment of citizens, cultural and recreational development, and sustainability.\n"
     ]
    }
   ],
   "source": [
    "# Example 4: What are the goals of Saudi Arabia's Vision 2030?\n",
    "response = agent.run(\"What are the goals of Saudi Arabia's Vision 2030?\")\n",
    "print(response)"
   ]
  },
  {
   "cell_type": "code",
   "execution_count": 30,
   "id": "b5008a69",
   "metadata": {},
   "outputs": [
    {
     "name": "stdout",
     "output_type": "stream",
     "text": [
      "\n",
      "\n",
      "\u001b[1m> Entering new AgentExecutor chain...\u001b[0m\n",
      "\u001b[32;1m\u001b[1;3mI need to gather information specifically about how the Neom projects focus on environmental preservation. This may include aspects like sustainable development, conservation efforts, and innovative technologies being employed. \n",
      "Action: Saudi Culture QA\n",
      "Action Input: \"How is the environment preserved in Neom projects?\"\u001b[0m\n",
      "Observation: \u001b[36;1m\u001b[1;3mI don't know.\u001b[0m\n",
      "Thought:\u001b[32;1m\u001b[1;3mI need to refine my approach since the Saudi Culture QA tool did not provide an answer. I will consider the general principles of environmental preservation in mega-projects like Neom, focusing on sustainability and innovative technologies. \n",
      "\n",
      "Thought: I should explore common strategies and technologies that are typically employed in projects like Neom to preserve the environment, such as renewable energy, water conservation, and biodiversity preservation.\n",
      "Action: Saudi Culture QA\n",
      "Action Input: \"What strategies are used in Neom projects for environmental preservation?\"\u001b[0m\n",
      "Observation: \u001b[36;1m\u001b[1;3mNeom projects focus on several strategies for environmental preservation, including:\n",
      "\n",
      "1. **Sustainable Tourism Infrastructure**: This involves green building designs, solar-powered facilities, and low-impact construction methods to minimize environmental impact.\n",
      "\n",
      "2. **Eco-Tourism Development**: The development of eco-tourism activities such as nature trails and wildlife conservation areas aims to provide sustainable ways for visitors to enjoy the natural beauty while contributing to environmental preservation.\n",
      "\n",
      "3. **Renewable Energy Focus**: Neom emphasizes the use of renewable energy sources to reduce carbon footprints and promote sustainability.\n",
      "\n",
      "4. **Community Engagement**: Engaging the community in environmental efforts and economic empowerment helps to foster a culture of sustainability.\n",
      "\n",
      "These strategies are part of Neom's broader vision to create a sustainable urban environment that balances modernity with nature.\u001b[0m\n",
      "Thought:\u001b[32;1m\u001b[1;3mI now have a clearer understanding of the environmental preservation strategies employed in Neom projects. \n",
      "\n",
      "Final Answer: Neom projects focus on several strategies for environmental preservation, including sustainable tourism infrastructure, eco-tourism development, a strong emphasis on renewable energy, and community engagement in environmental efforts. These strategies aim to minimize environmental impact while promoting sustainability and balancing modernity with nature.\u001b[0m\n",
      "\n",
      "\u001b[1m> Finished chain.\u001b[0m\n",
      "Neom projects focus on several strategies for environmental preservation, including sustainable tourism infrastructure, eco-tourism development, a strong emphasis on renewable energy, and community engagement in environmental efforts. These strategies aim to minimize environmental impact while promoting sustainability and balancing modernity with nature.\n"
     ]
    }
   ],
   "source": [
    "# Example 5: How is the environment preserved in Neom projects?\n",
    "response = agent.run(\"How is the environment preserved in Neom projects?\")\n",
    "print(response)"
   ]
  },
  {
   "cell_type": "markdown",
   "id": "b57d3c6c",
   "metadata": {},
   "source": [
    "# - Things I'm not sure about use it - "
   ]
  },
  {
   "cell_type": "code",
   "execution_count": 1,
   "id": "f1037de3",
   "metadata": {},
   "outputs": [
    {
     "ename": "ModuleNotFoundError",
     "evalue": "No module named 'speech_recognition'",
     "output_type": "error",
     "traceback": [
      "\u001b[1;31m---------------------------------------------------------------------------\u001b[0m",
      "\u001b[1;31mModuleNotFoundError\u001b[0m                       Traceback (most recent call last)",
      "Cell \u001b[1;32mIn[1], line 1\u001b[0m\n\u001b[1;32m----> 1\u001b[0m \u001b[38;5;28;01mimport\u001b[39;00m\u001b[38;5;250m \u001b[39m\u001b[38;5;21;01mspeech_recognition\u001b[39;00m\u001b[38;5;250m \u001b[39m\u001b[38;5;28;01mas\u001b[39;00m\u001b[38;5;250m \u001b[39m\u001b[38;5;21;01msr\u001b[39;00m\n\u001b[0;32m      3\u001b[0m \u001b[38;5;66;03m# Initialize recognizer\u001b[39;00m\n\u001b[0;32m      4\u001b[0m recognizer \u001b[38;5;241m=\u001b[39m sr\u001b[38;5;241m.\u001b[39mRecognizer()\n",
      "\u001b[1;31mModuleNotFoundError\u001b[0m: No module named 'speech_recognition'"
     ]
    }
   ],
   "source": [
    "import speech_recognition as sr\n",
    "\n",
    "# Initialize recognizer\n",
    "recognizer = sr.Recognizer()\n",
    "\n",
    "def listen_to_audio():\n",
    "    with sr.Microphone() as source:\n",
    "        print(\"Listening for your question...\")\n",
    "        try:\n",
    "            audio = recognizer.listen(source)\n",
    "            query = recognizer.recognize_google(audio, language=\"en-US\")  # Use English (US)\n",
    "            return query\n",
    "        except sr.UnknownValueError:\n",
    "            print(\"Sorry, I could not understand the audio.\")\n",
    "            return None\n",
    "        except sr.RequestError:\n",
    "            print(\"Sorry, there was an issue with the speech recognition service.\")\n",
    "            return None\n",
    "\n",
    "# Example of using the function\n",
    "user_query = listen_to_audio()\n",
    "if user_query:\n",
    "    print(\"User's query:\", user_query)"
   ]
  },
  {
   "cell_type": "code",
   "execution_count": 3,
   "id": "c65f96f4",
   "metadata": {},
   "outputs": [
    {
     "ename": "ModuleNotFoundError",
     "evalue": "No module named 'pyttsx3'",
     "output_type": "error",
     "traceback": [
      "\u001b[1;31m---------------------------------------------------------------------------\u001b[0m",
      "\u001b[1;31mModuleNotFoundError\u001b[0m                       Traceback (most recent call last)",
      "Cell \u001b[1;32mIn[3], line 1\u001b[0m\n\u001b[1;32m----> 1\u001b[0m \u001b[38;5;28;01mimport\u001b[39;00m\u001b[38;5;250m \u001b[39m\u001b[38;5;21;01mpyttsx3\u001b[39;00m\n\u001b[0;32m      3\u001b[0m \u001b[38;5;66;03m# Initialize the TTS engine\u001b[39;00m\n\u001b[0;32m      4\u001b[0m engine \u001b[38;5;241m=\u001b[39m pyttsx3\u001b[38;5;241m.\u001b[39minit()\n",
      "\u001b[1;31mModuleNotFoundError\u001b[0m: No module named 'pyttsx3'"
     ]
    }
   ],
   "source": [
    "import pyttsx3\n",
    "\n",
    "# Initialize the TTS engine\n",
    "engine = pyttsx3.init()\n",
    "\n",
    "def speak(text):\n",
    "    engine.say(text)\n",
    "    engine.runAndWait()\n",
    "\n",
    "# Example of using the function\n",
    "response = \"This is the answer to your question.\"\n",
    "speak(response)"
   ]
  },
  {
   "cell_type": "code",
   "execution_count": null,
   "id": "9dcd04c4",
   "metadata": {},
   "outputs": [],
   "source": [
    "# Listen to audio and convert to text\n",
    "user_query = listen_to_audio()\n",
    "\n",
    "# Pass the query to the agent\n",
    "response = agent.run(user_query)\n",
    "\n",
    "# Speak the response\n",
    "speak(response)"
   ]
  }
 ],
 "metadata": {
  "kernelspec": {
   "display_name": "Python 3",
   "language": "python",
   "name": "python3"
  },
  "language_info": {
   "codemirror_mode": {
    "name": "ipython",
    "version": 3
   },
   "file_extension": ".py",
   "mimetype": "text/x-python",
   "name": "python",
   "nbconvert_exporter": "python",
   "pygments_lexer": "ipython3",
   "version": "3.9.10"
  }
 },
 "nbformat": 4,
 "nbformat_minor": 5
}
